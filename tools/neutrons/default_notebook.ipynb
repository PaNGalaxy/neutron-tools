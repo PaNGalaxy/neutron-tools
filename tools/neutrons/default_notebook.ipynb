{
 "cells": [
  {
   "cell_type": "markdown",
   "metadata": {},
   "source": [
    "# Welcome to the interactive Galaxy Jupyter Notebook (ORNL version)."
   ]
  },
  {
   "cell_type": "markdown",
   "metadata": {},
   "source": [
    "If you provided input data when you started the tool, you can access it in __./data__ folder. The output data should be placed in __./outputs__ folder. If you selected output\n",
    "type - _Dataset Collection_, the whole folder content will be stored in your history as a Galaxy dataset collection; if you selected _Single Dataset_ - __./outputs__ should contain one file (if there are more, the first file will be selected by alphabetical order, the rest will be erased). The tool will exit with error if you selected a _Single Dataset_ and did not put anything into __./outputs__.\n",
    "\n",
    "<span style=\"color:red\">__Note:__ To exit properly and send outputs to Galaxy, save this notebook (click the “save” icon or File->Save Notebook) and shut it down (click File->Shut Down). \n",
    "</span>\n",
    "\n",
    "More information can be found in the [documentation](https://calvera.ornl.gov/docs/science/generic/howtows/jupyter/)."
   ]
  },
  {
   "cell_type": "code",
   "execution_count": 1,
   "metadata": {
    "collapsed": false,
    "jupyter": {
     "outputs_hidden": false
    }
   },
   "outputs": [],
   "source": []
  }
 ],
 "metadata": {
  "kernelspec": {
   "display_name": "Python 3",
   "language": "python",
   "name": "python3"
  },
  "language_info": {
   "codemirror_mode": {
    "name": "ipython",
    "version": 3
   },
   "file_extension": ".py",
   "mimetype": "text/x-python",
   "name": "python",
   "nbconvert_exporter": "python",
   "pygments_lexer": "ipython3",
   "version": "3.8.8"
  }
 },
 "nbformat": 4,
 "nbformat_minor": 4
}