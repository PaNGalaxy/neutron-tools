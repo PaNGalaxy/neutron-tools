{
 "cells": [
  {
   "cell_type": "code",
   "execution_count": null,
   "metadata": {},
   "outputs": [],
   "source": [
    "%matplotlib notebook\n",
    "import mantid.simpleapi as msi\n",
    "import matplotlib.pyplot as plt\n",
    "import numpy as np\n",
    "import os\n",
    "\n",
    "from mantid import plots"
   ]
  },
  {
   "cell_type": "code",
   "execution_count": null,
   "metadata": {},
   "outputs": [],
   "source": [
    "Datapath = 'data'\n"
   ]
  },
  {
   "cell_type": "code",
   "execution_count": null,
   "metadata": {},
   "outputs": [],
   "source": [
    "rn_nums = {}\n",
    "rn_nums['MT'] = [204358]\n",
    "rn_nums['Data'] = [201200]\n",
    "Nom_Ei = 120\n",
    "flout = {'MT': 'MT120', 'Data': 'Data120'}\n",
    "MDwks = {'MT': 'MT120_MD', 'Data': 'Data120_MD'}"
   ]
  },
  {
   "cell_type": "markdown",
   "metadata": {},
   "source": [
    "Common Reduction Parameters"
   ]
  },
  {
   "cell_type": "code",
   "execution_count": null,
   "metadata": {},
   "outputs": [],
   "source": [
    "DGSdict={}\n",
    "DGSdict['UseIncidentEnergyGuess'] = '1'\n",
    "DGSdict['EnergyTransferRange'] = '-118.5,0.5,118.5' # be sure the center bin is centered on zero\n",
    "DGSdict['SofPhiEIsDistribution']='0' # keep events (need to then run RebinTo Workspace and ConvertToDistribution\n",
    "# DGSdict['HardMaskFile']=HardMaskFile\n",
    "#DGSdict['GroupingFile'] = '/SNS/ARCS/shared/autoreduce/ARCS_2X1_grouping.xml' # choose 2x1 or some other grouping file created by GenerateGroupingSNSInelastic or GenerateGroupingPowder\n",
    "DGSdict['IncidentBeamNormalisation']='ByCurrent'\n",
    "DGSdict['UseProcessedDetVan']='1'\n",
    "DGSdict['UseBoundsForDetVan']='1'\n",
    "DGSdict['DetectorVanadiumInputWorkspace']='__VAN'\n",
    "DGSdict['DetVanIntRangeHigh'] = 4.6\n",
    "DGSdict['DetVanIntRangeLow'] = 4.3\n",
    "DGSdict['DetVanIntRangeUnits'] = 'Wavelength'\n",
    "DGSdict['MedianTestLevelsUp'] = '1'\n",
    "DGSdict['OutputWorkspace'] = '__OWS'\n"
   ]
  },
  {
   "cell_type": "markdown",
   "metadata": {},
   "source": [
    "Load and Merge equivalent runs"
   ]
  },
  {
   "cell_type": "code",
   "execution_count": null,
   "metadata": {},
   "outputs": [],
   "source": [
    "# Load  and merge data \n",
    "mgstrs={}\n",
    "mgstrsmon={}\n",
    "for idx,typ in enumerate(rn_nums.keys()):\n",
    "    mgstrs[typ] = ''\n",
    "    mgstrsmon[typ] = ''\n",
    "    for rn in rn_nums[typ]:\n",
    "        wksnm = \"Ev{}\".format(rn)\n",
    "        msi.LoadNexusMonitors(Filename=os.path.join(Datapath,'mon.h5'), OutputWorkspace=wksnm+'_mon')\n",
    "        msi.Load(os.path.join(Datapath,'data.h5'),OutputWorkspace=wksnm)\n",
    "        mgstrs[typ]+=wksnm+','\n",
    "        mgstrsmon[typ]+=wksnm+'_mon,'\n",
    "    mgstrs[typ] = mgstrs[typ][:-1]\n",
    "    mgstrsmon[typ] =mgstrsmon[typ][:-1]\n",
    "    msi.MergeRuns(OutputWorkspace=typ, InputWorkspaces=mgstrs[typ])\n",
    "    msi.MergeRuns(OutputWorkspace=typ+'_mon', InputWorkspaces=mgstrsmon[typ])\n"
   ]
  },
  {
   "cell_type": "markdown",
   "metadata": {},
   "source": [
    "Get Ei and T0 values for the runs"
   ]
  },
  {
   "cell_type": "code",
   "execution_count": null,
   "metadata": {},
   "outputs": [],
   "source": [
    "Eis={}\n",
    "t0s={}\n",
    "mgdwskpcs = ['Data','MT']\n",
    "for idx,wksp in enumerate(mgdwskpcs):\n",
    "    mwksp=wksp+'_mon'\n",
    "    Eis[wksp], t0s[wksp] =  msi.GetEiT0atSNS(MonitorWorkspace=mwksp, IncidentEnergyGuess=str(Nom_Ei))"
   ]
  },
  {
   "cell_type": "markdown",
   "metadata": {},
   "source": [
    "Load V detector normalization"
   ]
  },
  {
   "cell_type": "code",
   "execution_count": null,
   "metadata": {},
   "outputs": [],
   "source": [
    "msi.LoadNexus(Filename='data/van.nxs', OutputWorkspace='__VAN')"
   ]
  },
  {
   "cell_type": "markdown",
   "metadata": {},
   "source": [
    "Reduce data to MD"
   ]
  },
  {
   "cell_type": "code",
   "execution_count": null,
   "metadata": {},
   "outputs": [],
   "source": [
    "for wkspc in mgdwskpcs:\n",
    "    DGSdict['SampleInputWorkspace'] = wkspc\n",
    "    DGSdict['SampleInputMonitorWorkspace'] = wkspc+'_mon'\n",
    "    DGSdict['IncidentEnergyGuess'] = Eis[wkspc]\n",
    "    DGSdict['TimeZeroGuess'] = t0s[wkspc]\n",
    "    msi.config['default.facility'] = 'SNS'\n",
    "    msi.DgsReduction(**DGSdict)\n",
    "    msi.Divide(LHSWorkspace=\"__OWS\", RHSWorkspace=\"__VAN\", OutputWorkspace=\"__OWS\")\n",
    "    msi.RebinToWorkspace(WorkspaceToRebin=\"__OWS\", WorkspaceToMatch=\"__OWS\", \n",
    "                         OutputWorkspace=\"__OWS\", PreserveEvents='0')\n",
    "    msi.ConvertToDistribution(Workspace=\"__OWS\") # Divide by bin width\n",
    "    minvals,maxvals = msi.ConvertToMDMinMaxGlobal(\"__OWS\",'|Q|','Direct')\n",
    "    msi.ConvertToMD('__OWS',QDimensions='|Q|',dEAnalysisMode='Direct',MinValues=minvals,MaxValues=maxvals,\n",
    "                    OutputWorkspace=MDwks[wkspc])\n",
    "    \n",
    "    #msi.SaveMD(InputWorkspace='MD',Filename=flout[wkspc]+'.h5',SaveLogs=True,SaveSample=True)   "
   ]
  },
  {
   "cell_type": "code",
   "execution_count": null,
   "metadata": {},
   "outputs": [],
   "source": [
    "for wkspc in mgdwskpcs:\n",
    "    msi.BinMD(InputWorkspace=MDwks[wkspc], \n",
    "          AlignedDim0='|Q|,0.0,14,500', # min, max number of bins in Q \n",
    "          AlignedDim1='DeltaE,-118.75,118.75,475', # min max number of bins in E \n",
    "          OutputWorkspace=MDwks[wkspc]+'H')\n",
    "    msi.SaveMD(InputWorkspace=MDwks[wkspc]+'H',Filename=flout[wkspc]+'.h5',SaveLogs=True,SaveSample=True)"
   ]
  },
  {
   "cell_type": "code",
   "execution_count": null,
   "metadata": {},
   "outputs": [],
   "source": [
    "msi.mtd.getObjectNames()"
   ]
  },
  {
   "cell_type": "code",
   "execution_count": null,
   "metadata": {},
   "outputs": [],
   "source": [
    "h = msi.mtd['Data120_MDH']\n",
    "hmt = msi.mtd['MT120_MDH']"
   ]
  },
  {
   "cell_type": "code",
   "execution_count": null,
   "metadata": {},
   "outputs": [],
   "source": [
    "%matplotlib inline \n",
    "\n",
    "f,ax=plt.subplots(ncols=2,figsize=(9,4),subplot_kw={'projection':'mantid'})\n",
    "ax[0].pcolor(h,vmax=5e-4)\n",
    "cax = ax[1].pcolor(hmt,vmax=5e-4)\n",
    "f.colorbar(cax, ax=ax[1])\n",
    "f.tight_layout()\n",
    "f.savefig('plots.png', bbox_inches='tight')\n"
   ]
  }
 ],
 "metadata": {
  "kernelspec": {
   "display_name": "Python 3",
   "language": "python",
   "name": "python3"
  },
  "language_info": {
   "codemirror_mode": {
    "name": "ipython",
    "version": 3
   },
   "file_extension": ".py",
   "mimetype": "text/x-python",
   "name": "python",
   "nbconvert_exporter": "python",
   "pygments_lexer": "ipython3",
   "version": "3.8.8"
  }
 },
 "nbformat": 4,
 "nbformat_minor": 4
}
